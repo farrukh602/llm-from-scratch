{
 "cells": [
  {
   "cell_type": "code",
   "execution_count": 5,
   "id": "df1ca4eb-26a4-4a79-bd08-21d409712238",
   "metadata": {},
   "outputs": [],
   "source": [
    "import re\n",
    "import string\n",
    "import numpy as np\n",
    "import matplotlib.pyplot as plt"
   ]
  },
  {
   "cell_type": "code",
   "execution_count": 65,
   "id": "c88435b9-5e86-472e-ad0c-2689792eea02",
   "metadata": {},
   "outputs": [
    {
     "name": "stdout",
     "output_type": "stream",
     "text": [
      "Total number of character: 21937\n"
     ]
    }
   ],
   "source": [
    "with open(\"the_verdict.txt\", \"r\", encoding=\"utf-8\") as f:\n",
    "    raw_text = f.read()\n",
    "print(\"Total number of character:\", len(raw_text))\n"
   ]
  },
  {
   "cell_type": "code",
   "execution_count": 53,
   "id": "488f6017-0159-43b8-b7d2-0e982d8665cf",
   "metadata": {},
   "outputs": [],
   "source": [
    "def process_text(text):\n",
    "    # lower case\n",
    "    # text = text.lower()\n",
    "    # '\\\\n' character removed:\n",
    "    text=text.replace(\"\\\\n\",\" \" )\n",
    "    # remove punctuation\n",
    "    text = \"\".join([char for char in text if char not in string.punctuation])\n",
    "    # # remove digits\n",
    "    # text = ''.join([char for char in text if char not in string.digits])\n",
    "    # remove stopwords\n",
    "    # stop_words = stopwords.words('english')\n",
    "    # words = nltk.word_tokenize(text)\n",
    "    # filtered_words =[word for word in words if word not in stop_words]\n",
    "    # filtered_text = \" \".join(filtered_words)\n",
    "    return text"
   ]
  },
  {
   "cell_type": "code",
   "execution_count": 139,
   "id": "fa01e36d-72b7-4b44-a0ed-8eb315703761",
   "metadata": {
    "scrolled": true
   },
   "outputs": [
    {
     "data": {
      "text/plain": [
       "4886"
      ]
     },
     "execution_count": 139,
     "metadata": {},
     "output_type": "execute_result"
    }
   ],
   "source": [
    "# preprocessed_text = re.sub(r'([,.?_!\"()\\']|--|\\s)',\" \", raw_text).split()\n",
    "preprocessed = re.split(r'([,.?_!\"()\\']|--|\\s)', raw_text)\n",
    "preprocessed = [item.strip() for item in preprocessed if item.strip()]\n",
    "len(preprocessed)"
   ]
  },
  {
   "cell_type": "markdown",
   "id": "cb2bf916-2a42-437a-b549-22624fd60572",
   "metadata": {},
   "source": [
    "### Converting tokens into token IDS\n",
    "Build vocabulary set be removing duplicate words. Then arrange all the unique words in alphabatical order and assign each word with an integer ID"
   ]
  },
  {
   "cell_type": "code",
   "execution_count": 140,
   "id": "2f555a97-3971-4338-aa46-8aca3a1ec051",
   "metadata": {
    "scrolled": true
   },
   "outputs": [
    {
     "data": {
      "text/plain": [
       "1266"
      ]
     },
     "execution_count": 140,
     "metadata": {},
     "output_type": "execute_result"
    }
   ],
   "source": [
    "# use set() method to have all the words unique\n",
    "all_words= sorted(set(preprocessed))\n",
    "vocab = {token:integer for integer,token in enumerate(all_words)}\n",
    "len(all_words)"
   ]
  },
  {
   "cell_type": "markdown",
   "id": "09bc1537-0c9d-4c96-8570-8c73d31704b1",
   "metadata": {},
   "source": [
    "## Encoding Decoding\n",
    "Encoding means assigning each word a unique ID. decoding means getting back the word from the integer ID."
   ]
  },
  {
   "cell_type": "code",
   "execution_count": 145,
   "id": "f3c27e75-e47a-4f7b-9fa5-910cd98dd74e",
   "metadata": {},
   "outputs": [],
   "source": [
    "class SimpleTokenizerV1:\n",
    "    def __init__(self, vocab):\n",
    "        self.str_to_int = vocab\n",
    "        self.int_to_str = {integer: string for string,integer in vocab.items()}\n",
    "    def encode(self, text):\n",
    "        preprocessed = re.split(r'([,.?_!\"()\\']|--|\\s)', text)\n",
    "        preprocessed = [item.strip() for item in preprocessed if item.strip()]\n",
    "        ids = [self.str_to_int[s] for s in preprocessed]\n",
    "        return ids\n",
    "       \n",
    "    def decode(self, ids):\n",
    "        text = \" \".join([self.int_to_str[i] for i in ids])\n",
    "        text = re.sub(r'\\s+([,.?!\"()\\'])', r'\\1',text)\n",
    "        return text\n",
    "    "
   ]
  },
  {
   "cell_type": "code",
   "execution_count": 148,
   "id": "d634e81b-4a90-46b6-83fd-e1ba530f7a06",
   "metadata": {},
   "outputs": [
    {
     "name": "stdout",
     "output_type": "stream",
     "text": [
      "[1, 86, 2, 969, 1114, 694, 618, 853, 6, 1262, 687, 6, 1, 102, 8, 66, 970]\n",
      "\" It' s the last he painted, you know,\" Mrs. Gisburn said\n"
     ]
    }
   ],
   "source": [
    "text=\"\"\"\"It's the last he painted, you know,\" Mrs. Gisburn said\"\"\"\n",
    "tokenizer = SimpleTokenizerV1(vocab)\n",
    "ids=tokenizer.encode(text)\n",
    "regenerated_text = tokenizer.decode(ids)\n",
    "print(ids)\n",
    "print(regenerated_text)"
   ]
  },
  {
   "cell_type": "code",
   "execution_count": null,
   "id": "d8076b26-c31c-4f16-91b9-221770734996",
   "metadata": {},
   "outputs": [],
   "source": []
  }
 ],
 "metadata": {
  "kernelspec": {
   "display_name": "Python 3 (ipykernel)",
   "language": "python",
   "name": "python3"
  },
  "language_info": {
   "codemirror_mode": {
    "name": "ipython",
    "version": 3
   },
   "file_extension": ".py",
   "mimetype": "text/x-python",
   "name": "python",
   "nbconvert_exporter": "python",
   "pygments_lexer": "ipython3",
   "version": "3.12.2"
  }
 },
 "nbformat": 4,
 "nbformat_minor": 5
}
