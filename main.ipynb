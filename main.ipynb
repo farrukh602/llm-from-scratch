{
  "cells": [
    {
      "cell_type": "code",
      "source": [
        "!git pull origin main"
      ],
      "metadata": {
        "id": "uez085zvrN-4",
        "outputId": "05142e17-282e-4009-9900-d0b44dee34b2",
        "colab": {
          "base_uri": "https://localhost:8080/"
        }
      },
      "id": "uez085zvrN-4",
      "execution_count": 52,
      "outputs": [
        {
          "output_type": "stream",
          "name": "stdout",
          "text": [
            "remote: Enumerating objects: 7, done.\u001b[K\n",
            "remote: Counting objects:  14% (1/7)\u001b[K\rremote: Counting objects:  28% (2/7)\u001b[K\rremote: Counting objects:  42% (3/7)\u001b[K\rremote: Counting objects:  57% (4/7)\u001b[K\rremote: Counting objects:  71% (5/7)\u001b[K\rremote: Counting objects:  85% (6/7)\u001b[K\rremote: Counting objects: 100% (7/7)\u001b[K\rremote: Counting objects: 100% (7/7), done.\u001b[K\n",
            "remote: Compressing objects:  25% (1/4)\u001b[K\rremote: Compressing objects:  50% (2/4)\u001b[K\rremote: Compressing objects:  75% (3/4)\u001b[K\rremote: Compressing objects: 100% (4/4)\u001b[K\rremote: Compressing objects: 100% (4/4), done.\u001b[K\n",
            "Unpacking objects:  25% (1/4)\rremote: Total 4 (delta 2), reused 0 (delta 0), pack-reused 0\u001b[K\n",
            "Unpacking objects:  50% (2/4)\rUnpacking objects:  75% (3/4)\rUnpacking objects: 100% (4/4)\rUnpacking objects: 100% (4/4), 10.77 KiB | 501.00 KiB/s, done.\n",
            "From https://github.com/farrukh602/llm-from-scratch\n",
            " * branch            main       -> FETCH_HEAD\n",
            "   c19c0d8..80f8326  main       -> origin/main\n",
            "Updating c19c0d8..80f8326\n",
            "Fast-forward\n",
            " data/novel.txt | 1196 \u001b[32m++++++++++++++++\u001b[m\u001b[31m------------------------------------------------------------\u001b[m\n",
            " 1 file changed, 246 insertions(+), 950 deletions(-)\n"
          ]
        }
      ]
    },
    {
      "cell_type": "code",
      "source": [
        "!pip install tiktoken"
      ],
      "metadata": {
        "colab": {
          "base_uri": "https://localhost:8080/"
        },
        "id": "uFsddU0tcVcm",
        "outputId": "935e135b-6d68-432a-a489-3bc5c8af6090"
      },
      "id": "uFsddU0tcVcm",
      "execution_count": 2,
      "outputs": [
        {
          "output_type": "stream",
          "name": "stdout",
          "text": [
            "Collecting tiktoken\n",
            "  Downloading tiktoken-0.7.0-cp310-cp310-manylinux_2_17_x86_64.manylinux2014_x86_64.whl (1.1 MB)\n",
            "\u001b[2K     \u001b[90m━━━━━━━━━━━━━━━━━━━━━━━━━━━━━━━━━━━━━━━━\u001b[0m \u001b[32m1.1/1.1 MB\u001b[0m \u001b[31m6.0 MB/s\u001b[0m eta \u001b[36m0:00:00\u001b[0m\n",
            "\u001b[?25hRequirement already satisfied: regex>=2022.1.18 in /usr/local/lib/python3.10/dist-packages (from tiktoken) (2024.5.15)\n",
            "Requirement already satisfied: requests>=2.26.0 in /usr/local/lib/python3.10/dist-packages (from tiktoken) (2.31.0)\n",
            "Requirement already satisfied: charset-normalizer<4,>=2 in /usr/local/lib/python3.10/dist-packages (from requests>=2.26.0->tiktoken) (3.3.2)\n",
            "Requirement already satisfied: idna<4,>=2.5 in /usr/local/lib/python3.10/dist-packages (from requests>=2.26.0->tiktoken) (3.7)\n",
            "Requirement already satisfied: urllib3<3,>=1.21.1 in /usr/local/lib/python3.10/dist-packages (from requests>=2.26.0->tiktoken) (2.0.7)\n",
            "Requirement already satisfied: certifi>=2017.4.17 in /usr/local/lib/python3.10/dist-packages (from requests>=2.26.0->tiktoken) (2024.6.2)\n",
            "Installing collected packages: tiktoken\n",
            "Successfully installed tiktoken-0.7.0\n"
          ]
        }
      ]
    },
    {
      "cell_type": "code",
      "execution_count": 3,
      "id": "a707413c-c97e-472c-891b-f2f0538cbe51",
      "metadata": {
        "id": "a707413c-c97e-472c-891b-f2f0538cbe51"
      },
      "outputs": [],
      "source": [
        "import torch\n",
        "import torch.nn as nn\n",
        "import numpy as np\n",
        "import matplotlib.pyplot as plt\n",
        "import tiktoken\n",
        "\n",
        "from utilities.gpt_module import GPTModel\n",
        "import importlib\n",
        "from utilities import supporting_modules\n",
        "from utilities.supporting_modules import create_dataloader, GPTDataset\n"
      ]
    },
    {
      "cell_type": "code",
      "execution_count": 4,
      "id": "49103f4a-bdfc-467b-b2f5-2de99c50b32d",
      "metadata": {
        "scrolled": true,
        "id": "49103f4a-bdfc-467b-b2f5-2de99c50b32d"
      },
      "outputs": [],
      "source": [
        "gpt_config_124m = {\n",
        "\"vocab_size\": 50257,\n",
        "\"context_length\": 256, #A\n",
        "\"emb_dim\": 768,\n",
        "\"n_heads\": 12,\n",
        "\"n_layers\": 12,\n",
        "\"drop_rate\": 0.1, #B\n",
        "\"qkv_bias\": False\n",
        "}"
      ]
    },
    {
      "cell_type": "markdown",
      "id": "86118518-8941-4b09-94a7-06a2d23d6bb0",
      "metadata": {
        "id": "86118518-8941-4b09-94a7-06a2d23d6bb0"
      },
      "source": [
        "##### Text generation Helping functions\n",
        "A three-step text generation process using a GPT model:\n",
        "- First, the tokenizer converts input text into a series of token IDs,\n",
        "- Second, the model receives these token IDs and generates corresponding logits, which are vectors representing the probability distribution for each token in the vocabulary.\n",
        "- Third, these logits are converted back into token IDs, which the tokenizer decodes into human-readable text, completing the cycle from textual input to textual output."
      ]
    },
    {
      "cell_type": "code",
      "execution_count": 5,
      "id": "e457d819-b469-4e4f-8b44-d38b12e20017",
      "metadata": {
        "id": "e457d819-b469-4e4f-8b44-d38b12e20017"
      },
      "outputs": [],
      "source": [
        "def generate_text(model, ids, max_new_tokens, context_size):\n",
        "    for _ in range(max_new_tokens):\n",
        "        ids_cond = ids[:, -context_size:]\n",
        "        with torch.no_grad():\n",
        "            logits = model(ids_cond)\n",
        "        logits_new_token = logits[:, -1, :]\n",
        "        probas = torch.softmax(logits_new_token, dim=-1)\n",
        "        ids_next = torch.argmax(probas, dim=-1, keepdim=True) # index of highest probability in probas tensor is actually the id for next token\n",
        "        ids = torch.cat((ids, ids_next), dim=1) # concatenate new token id with previous ids to generate full text\n",
        "    return ids\n",
        "\n",
        "\n",
        "def text_to_token_ids(text, tokenizer):\n",
        "    encoded = tokenizer.encode(text, allowed_special={'<|endoftext|>'})\n",
        "    encoded_tensor = torch.tensor(encoded).unsqueeze(0)\n",
        "    return encoded_tensor\n",
        "\n",
        "def token_ids_to_text(token_ids, tokenizer):\n",
        "    flat = token_ids.squeeze(0) # to remove batch dimension\n",
        "    return tokenizer.decode(flat.tolist())"
      ]
    },
    {
      "cell_type": "markdown",
      "id": "fe2fdd85-7611-416d-83c0-2910e2c02b42",
      "metadata": {
        "id": "fe2fdd85-7611-416d-83c0-2910e2c02b42"
      },
      "source": [
        "### Setting the data"
      ]
    },
    {
      "cell_type": "code",
      "execution_count": 6,
      "id": "a405e3cd-1a1f-41f4-91f2-5efb53c13347",
      "metadata": {
        "id": "a405e3cd-1a1f-41f4-91f2-5efb53c13347"
      },
      "outputs": [],
      "source": [
        "# file_path = \"data/the_verdict.txt\"\n",
        "file_path = \"data/novel.txt\"\n",
        "with open(file_path, \"r\", encoding=\"utf-8\") as file:\n",
        "    text_data = file.read()\n",
        "train_ratio = 0.90\n",
        "split_idx = int(train_ratio * len(text_data))\n",
        "train_data = text_data[:split_idx]\n",
        "val_data = text_data[split_idx:]\n",
        "\n",
        "# crafting data loaders\n",
        "train_loader = create_dataloader(\n",
        "train_data,\n",
        "batch_size=2,\n",
        "max_length=gpt_config_124m[\"context_length\"],\n",
        "stride=gpt_config_124m[\"context_length\"],\n",
        "drop_last=True,\n",
        "shuffle=True\n",
        ")\n",
        "val_loader = create_dataloader(\n",
        "val_data,\n",
        "batch_size=2,\n",
        "max_length=gpt_config_124m[\"context_length\"],\n",
        "stride=gpt_config_124m[\"context_length\"],\n",
        "drop_last=False,\n",
        "shuffle=False\n",
        ")"
      ]
    },
    {
      "cell_type": "markdown",
      "id": "b852583e-8c7a-41ad-bde1-ef49dd512e23",
      "metadata": {
        "id": "b852583e-8c7a-41ad-bde1-ef49dd512e23"
      },
      "source": [
        "## Training Function"
      ]
    },
    {
      "cell_type": "code",
      "source": [
        "def cross_entropy_batch_loss(input_batch, target_batch, model, device):\n",
        "    input_batch, target_batch = input_batch.to(device), target_batch.to(device)\n",
        "    logits = model(input_batch)\n",
        "    loss = torch.nn.functional.cross_entropy(logits.flatten(0, 1), target_batch.flatten())\n",
        "    return loss\n",
        "\n",
        "def loss_calculator(data_loader, model, loss_function, device, num_batches=9):\n",
        "    total_loss = 0.\n",
        "    if num_batches is None:\n",
        "        num_batches = len(data_loader)\n",
        "    else:\n",
        "        num_batches = min(num_batches, len(data_loader))\n",
        "    for i, (input_batch, target_batch) in enumerate(data_loader):\n",
        "        if i < num_batches:\n",
        "            loss = loss_function(input_batch, target_batch, model, device)\n",
        "            total_loss += loss\n",
        "        else:\n",
        "            break\n",
        "    return total_loss / num_batches"
      ],
      "metadata": {
        "id": "O_wJDKZvfiLF"
      },
      "id": "O_wJDKZvfiLF",
      "execution_count": 7,
      "outputs": []
    },
    {
      "cell_type": "code",
      "execution_count": 8,
      "id": "678b6a6d-d3de-4619-8e2b-848ad9ff0103",
      "metadata": {
        "id": "678b6a6d-d3de-4619-8e2b-848ad9ff0103"
      },
      "outputs": [],
      "source": [
        "def generate_and_print_sample(model, tokenizer, device, start_context):\n",
        "    model.eval()\n",
        "    context_size = model.pos_emb.weight.shape[0]\n",
        "    encoded = text_to_token_ids(start_context, tokenizer).to(device)\n",
        "    with torch.no_grad():\n",
        "        token_ids = generate_text(model=model, ids=encoded,\n",
        "        max_new_tokens=50, context_size=context_size)\n",
        "        decoded_text = token_ids_to_text(token_ids, tokenizer)\n",
        "        print(decoded_text.replace(\"\\n\", \" \"))\n",
        "    model.train()\n",
        "\n",
        "\n",
        "def evaluate_model(model, train_loader, val_loader, device, eval_iter):\n",
        "    model.eval()\n",
        "    with torch.no_grad():\n",
        "        train_loss = loss_calculator(train_loader, model, cross_entropy_batch_loss, device, num_batches=eval_iter)\n",
        "        val_loss = loss_calculator(val_loader, model,  cross_entropy_batch_loss, device,num_batches=eval_iter)\n",
        "    model.train()\n",
        "    return train_loss, val_loss"
      ]
    },
    {
      "cell_type": "code",
      "execution_count": 9,
      "id": "358b3e2c-de95-4260-927c-426a7521e0d0",
      "metadata": {
        "id": "358b3e2c-de95-4260-927c-426a7521e0d0"
      },
      "outputs": [],
      "source": [
        "\n",
        "def train_model(model, train_loader, val_loader, optimizer, device,\n",
        "               eval_freq, eval_iter, num_epochs, start_context):\n",
        "    train_losses, val_losses, track_token_seens = [],[], []\n",
        "    tokens_seen, global_step = 0,-1\n",
        "    for epoch in range(num_epochs):\n",
        "        model.train()\n",
        "        for input_batch, target_batch in train_loader:\n",
        "            optimizer.zero_grad()\n",
        "            loss = loss_calculator(train_loader, model, cross_entropy_batch_loss, device)\n",
        "            loss.backward()\n",
        "            optimizer.step()\n",
        "\n",
        "            tokens_seen +=input_batch.numel()\n",
        "            global_step+=1\n",
        "            if global_step%eval_freq==0:\n",
        "                train_loss, val_loss = evaluate_model(model, train_loader, val_loader, device, eval_iter)\n",
        "                train_losses.append(train_loss)\n",
        "                val_losses.append(val_loss)\n",
        "                track_token_seens.append(tokens_seen)\n",
        "                print(f\"Epoch: {epoch+1} (Step: {global_step: 06d}):\",\n",
        "                     f\"Train loss: {train_loss: .3f}, Val loss: {val_loss: .3f}\")\n",
        "            generate_and_print_sample( model, train_loader.dataset.tokenizer, device, start_context)\n",
        "    return train_losses, val_losses, track_token_seens\n"
      ]
    },
    {
      "cell_type": "code",
      "source": [
        "torch.manual_seed(123)\n",
        "torch.cuda.empty_cache()\n",
        "\n",
        "device = torch.device('cuda' if torch.cuda.is_available() else 'cpu')\n",
        "model = GPTModel(gpt_config_124m)\n",
        "\n",
        "model.to(device)\n",
        "optimizer = torch.optim.AdamW(model.parameters(), lr=0.0004, weight_decay=0)\n",
        "# optimizer = torch.optim.Adam(model.parameters(), lr=0.0004, weight_decay=0)\n",
        "\n",
        "\n",
        "num_epochs = 1\n",
        "train_losses, val_losses, tokens_seen = train_model(model, train_loader, val_loader,\n",
        "                                                    optimizer, device,\n",
        "                                                    eval_freq=10, eval_iter=64,\n",
        "                                                    num_epochs=num_epochs,\n",
        "                                                    start_context=\"One of the most remarkable \")"
      ],
      "metadata": {
        "id": "1SMK7CKYdBww"
      },
      "id": "1SMK7CKYdBww",
      "execution_count": null,
      "outputs": []
    },
    {
      "cell_type": "code",
      "source": [
        "# Save model and optimizer parameters:\n",
        "torch.save({\n",
        "\"model_state_dict\": model.state_dict(),\n",
        "\"optimizer_state_dict\": optimizer.state_dict(),\n",
        "},\n",
        "\"/content/drive/MyDrive/model_params/llm_gpt2_model_and_optimizer.pth\"\n",
        ")"
      ],
      "metadata": {
        "id": "K03gUjBsiz9O"
      },
      "id": "K03gUjBsiz9O",
      "execution_count": 29,
      "outputs": []
    },
    {
      "cell_type": "code",
      "source": [
        "from google.colab import drive\n",
        "drive.mount('/content/drive')"
      ],
      "metadata": {
        "id": "6CEVZrgFjYQ2",
        "outputId": "b585c394-c71d-42b3-9914-aa2931a4ee8d",
        "colab": {
          "base_uri": "https://localhost:8080/"
        }
      },
      "id": "6CEVZrgFjYQ2",
      "execution_count": 28,
      "outputs": [
        {
          "output_type": "stream",
          "name": "stdout",
          "text": [
            "Mounted at /content/drive\n"
          ]
        }
      ]
    },
    {
      "cell_type": "code",
      "source": [
        "train_losses_numpy = np.array([loss.cpu().numpy() for loss in train_losses])\n",
        "val_losses_numpy = np.array([loss.cpu().numpy() for loss in val_losses])"
      ],
      "metadata": {
        "id": "bJgcGov2w7XF"
      },
      "id": "bJgcGov2w7XF",
      "execution_count": 30,
      "outputs": []
    },
    {
      "cell_type": "code",
      "source": [
        "import matplotlib.pyplot as plt\n",
        "def plot_losses(epochs_seen, tokens_seen, train_losses, val_losses):\n",
        "  fig, ax1 = plt.subplots(figsize=(6, 4))\n",
        "  ax1.plot(epochs_seen, train_losses, label=\"Training loss\")\n",
        "  ax1.plot(epochs_seen, val_losses, linestyle=\"-.\", label=\"Validation loss\")\n",
        "  ax1.set_xlabel(\"Epochs\")\n",
        "  ax1.set_ylabel(\"Loss\")\n",
        "  ax1.legend(loc=\"upper right\")\n",
        "  ax2 = ax1.twiny() #A\n",
        "  ax2.plot(tokens_seen, train_losses, alpha=0) #B\n",
        "  ax2.set_xlabel(\"Tokens seen\")\n",
        "  fig.tight_layout()\n",
        "  plt.show()\n",
        "\n",
        "epochs_tensor = torch.linspace(0, num_epochs, len(train_losses))\n",
        "plot_losses(epochs_tensor, tokens_seen, train_losses_numpy, val_losses_numpy)"
      ],
      "metadata": {
        "id": "GcVyj3Arv4xI",
        "outputId": "bc86c028-337b-4221-f6f4-3c18331152ab",
        "colab": {
          "base_uri": "https://localhost:8080/",
          "height": 407
        }
      },
      "id": "GcVyj3Arv4xI",
      "execution_count": 31,
      "outputs": [
        {
          "output_type": "display_data",
          "data": {
            "text/plain": [
              "<Figure size 600x400 with 2 Axes>"
            ],
            "image/png": "[encoded data removed]"
          },
          "metadata": {}
        }
      ]
    },
    {
      "cell_type": "markdown",
      "source": [
        "## Text Generation Strategies to Reduce Training Data Memorizaiton\n",
        "The model memorizes the training data verbatim by searching for\n",
        "the generated text snippets because of very small training data. We employ some text generation strategies to generate more diverse output texts."
      ],
      "metadata": {
        "id": "dpQ-aD2yyOd_"
      },
      "id": "dpQ-aD2yyOd_"
    },
    {
      "cell_type": "code",
      "source": [
        "# Revisiting the generate_text() function\n",
        "model.to('cpu')\n",
        "model.eval()\n",
        "\n",
        "tokenizer = tiktoken.get_encoding(\"gpt2\")\n",
        "ids = text_to_token_ids(\"Every one\", tokenizer)\n",
        "context_size=gpt_config_124m[\"context_length\"]\n",
        "next_text_ids=generate_text(model, ids, max_new_tokens=25, context_size=context_size)\n",
        "new_text = token_ids_to_text(next_text_ids, tokenizer)\n",
        "print(new_text)"
      ],
      "metadata": {
        "id": "0fB4UNyTwgt-",
        "outputId": "9873e62a-6203-4a1b-acf7-2d9627bbc5d4",
        "colab": {
          "base_uri": "https://localhost:8080/"
        }
      },
      "id": "0fB4UNyTwgt-",
      "execution_count": 39,
      "outputs": [
        {
          "output_type": "stream",
          "name": "stdout",
          "text": [
            "Every one saw Jack himself on the threshold.\n",
            "\n",
            "As he stood there, his hands in the pockets of his velveteen coat\n"
          ]
        }
      ]
    },
    {
      "cell_type": "markdown",
      "source": [
        "Plug the GPTModel instance (model) into the `generate_text`\n",
        "function, which uses the LLM to generate one token at a time."
      ],
      "metadata": {
        "id": "xRMwO6P_ypXK"
      },
      "id": "xRMwO6P_ypXK"
    },
    {
      "cell_type": "code",
      "source": [
        "tokenizer = tiktoken.get_encoding(\"gpt2\")\n",
        "ids = text_to_token_ids(\"Every effort moves you\", tokenizer)\n",
        "context_size=gpt_config_124m[\"context_length\"]\n",
        "next_text_ids=generate_text(model, ids, max_new_tokens=50, context_size=context_size)\n",
        "new_text = token_ids_to_text(next_text_ids, tokenizer)\n",
        "print(new_text)"
      ],
      "metadata": {
        "id": "-MgGfvhd0URO",
        "outputId": "1d6ad426-9707-4335-a6de-82692ea15a2b",
        "colab": {
          "base_uri": "https://localhost:8080/",
          "height": 211
        }
      },
      "id": "-MgGfvhd0URO",
      "execution_count": null,
      "outputs": [
        {
          "output_type": "error",
          "ename": "NameError",
          "evalue": "name 'tiktoken' is not defined",
          "traceback": [
            "\u001b[0;31m---------------------------------------------------------------------------\u001b[0m",
            "\u001b[0;31mNameError\u001b[0m                                 Traceback (most recent call last)",
            "\u001b[0;32m<ipython-input-1-227a93f62553>\u001b[0m in \u001b[0;36m<cell line: 1>\u001b[0;34m()\u001b[0m\n\u001b[0;32m----> 1\u001b[0;31m \u001b[0mtokenizer\u001b[0m \u001b[0;34m=\u001b[0m \u001b[0mtiktoken\u001b[0m\u001b[0;34m.\u001b[0m\u001b[0mget_encoding\u001b[0m\u001b[0;34m(\u001b[0m\u001b[0;34m\"gpt2\"\u001b[0m\u001b[0;34m)\u001b[0m\u001b[0;34m\u001b[0m\u001b[0;34m\u001b[0m\u001b[0m\n\u001b[0m\u001b[1;32m      2\u001b[0m \u001b[0mids\u001b[0m \u001b[0;34m=\u001b[0m \u001b[0mtext_to_token_ids\u001b[0m\u001b[0;34m(\u001b[0m\u001b[0;34m\"Every effort moves you\"\u001b[0m\u001b[0;34m,\u001b[0m \u001b[0mtokenizer\u001b[0m\u001b[0;34m)\u001b[0m\u001b[0;34m\u001b[0m\u001b[0;34m\u001b[0m\u001b[0m\n\u001b[1;32m      3\u001b[0m \u001b[0mcontext_size\u001b[0m\u001b[0;34m=\u001b[0m\u001b[0mgpt_config_124m\u001b[0m\u001b[0;34m[\u001b[0m\u001b[0;34m\"context_length\"\u001b[0m\u001b[0;34m]\u001b[0m\u001b[0;34m\u001b[0m\u001b[0;34m\u001b[0m\u001b[0m\n\u001b[1;32m      4\u001b[0m \u001b[0mnext_text_ids\u001b[0m\u001b[0;34m=\u001b[0m\u001b[0mgenerate_text\u001b[0m\u001b[0;34m(\u001b[0m\u001b[0mmodel\u001b[0m\u001b[0;34m,\u001b[0m \u001b[0mids\u001b[0m\u001b[0;34m,\u001b[0m \u001b[0mmax_new_tokens\u001b[0m\u001b[0;34m=\u001b[0m\u001b[0;36m50\u001b[0m\u001b[0;34m,\u001b[0m \u001b[0mcontext_size\u001b[0m\u001b[0;34m=\u001b[0m\u001b[0mcontext_size\u001b[0m\u001b[0;34m)\u001b[0m\u001b[0;34m\u001b[0m\u001b[0;34m\u001b[0m\u001b[0m\n\u001b[1;32m      5\u001b[0m \u001b[0mnew_text\u001b[0m \u001b[0;34m=\u001b[0m \u001b[0mtoken_ids_to_text\u001b[0m\u001b[0;34m(\u001b[0m\u001b[0mnext_text_ids\u001b[0m\u001b[0;34m,\u001b[0m \u001b[0mtokenizer\u001b[0m\u001b[0;34m)\u001b[0m\u001b[0;34m\u001b[0m\u001b[0;34m\u001b[0m\u001b[0m\n",
            "\u001b[0;31mNameError\u001b[0m: name 'tiktoken' is not defined"
          ]
        }
      ]
    },
    {
      "cell_type": "markdown",
      "source": [
        "## Techniques to control randomness and diversity of generated text"
      ],
      "metadata": {
        "id": "lc99GRCj8cL4"
      },
      "id": "lc99GRCj8cL4"
    },
    {
      "cell_type": "code",
      "source": [],
      "metadata": {
        "id": "ZRHGFd2H8kGp"
      },
      "id": "ZRHGFd2H8kGp",
      "execution_count": null,
      "outputs": []
    }
  ],
  "metadata": {
    "kernelspec": {
      "display_name": "Python 3",
      "name": "python3"
    },
    "language_info": {
      "codemirror_mode": {
        "name": "ipython",
        "version": 3
      },
      "file_extension": ".py",
      "mimetype": "text/x-python",
      "name": "python",
      "nbconvert_exporter": "python",
      "pygments_lexer": "ipython3",
      "version": "3.12.2"
    },
    "colab": {
      "provenance": [],
      "gpuType": "T4"
    },
    "accelerator": "GPU"
  },
  "nbformat": 4,
  "nbformat_minor": 5
}